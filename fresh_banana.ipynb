{
  "nbformat": 4,
  "nbformat_minor": 0,
  "metadata": {
    "colab": {
      "provenance": []
    },
    "kernelspec": {
      "name": "python3",
      "display_name": "Python 3"
    },
    "language_info": {
      "name": "python"
    }
  },
  "cells": [
    {
      "cell_type": "code",
      "execution_count": 38,
      "metadata": {
        "colab": {
          "base_uri": "https://localhost:8080/"
        },
        "id": "FQHTSHUQEBdq",
        "outputId": "c4bc48ca-cf34-4bbc-a977-ba229ea64997"
      },
      "outputs": [
        {
          "output_type": "stream",
          "name": "stdout",
          "text": [
            "Drive already mounted at /content/drive; to attempt to forcibly remount, call drive.mount(\"/content/drive\", force_remount=True).\n"
          ]
        }
      ],
      "source": [
        "from google.colab import drive\n",
        "drive.mount(\"/content/drive\")"
      ]
    },
    {
      "cell_type": "code",
      "source": [
        "filepath=\"/content/drive/MyDrive/data/suretrust project\""
      ],
      "metadata": {
        "id": "7qJJkfD5NEXd"
      },
      "execution_count": 40,
      "outputs": []
    },
    {
      "cell_type": "code",
      "source": [
        "import tensorflow as tf\n",
        "from PIL import Image\n",
        "from tensorflow.keras import layers"
      ],
      "metadata": {
        "id": "9e7LtFFaNpzE"
      },
      "execution_count": 50,
      "outputs": []
    },
    {
      "cell_type": "code",
      "source": [
        "img=Image.open(\"/content/drive/MyDrive/data/suretrust project/fresh_banana/Screen Shot 2018-06-12 at 10.00.49 PM.png\")\n",
        "img=img.resize((32,32))\n",
        "img"
      ],
      "metadata": {
        "colab": {
          "base_uri": "https://localhost:8080/",
          "height": 49
        },
        "id": "y2XE8kqJae0H",
        "outputId": "08906363-61aa-4ddd-a135-da90d3058248"
      },
      "execution_count": 41,
      "outputs": [
        {
          "output_type": "execute_result",
          "data": {
            "text/plain": [
              "<PIL.Image.Image image mode=RGBA size=32x32 at 0x7F4D5AA77CA0>"
            ],
            "image/png": "[encoded data removed]"
          },
          "metadata": {},
          "execution_count": 41
        }
      ]
    },
    {
      "cell_type": "code",
      "source": [
        "data=tf.keras.utils.image_dataset_from_directory(\"/content/drive/MyDrive/data/suretrust project\",\n",
        "    image_size=(32,32),\n",
        "    color_mode=\"rgb\",\n",
        "    batch_size=3050)"
      ],
      "metadata": {
        "colab": {
          "base_uri": "https://localhost:8080/"
        },
        "id": "MYHUq_LQbRcn",
        "outputId": "29431504-3d16-4655-d9ac-412b1d951ddc"
      },
      "execution_count": 42,
      "outputs": [
        {
          "output_type": "stream",
          "name": "stdout",
          "text": [
            "Found 3050 files belonging to 2 classes.\n"
          ]
        }
      ]
    },
    {
      "cell_type": "code",
      "source": [
        "for feature,label in data:\n",
        "    print(feature.shape,label.shape)\n",
        "    break"
      ],
      "metadata": {
        "colab": {
          "base_uri": "https://localhost:8080/"
        },
        "id": "mhJHrMCZbbqy",
        "outputId": "ac37fb0d-9094-4e8b-f7bc-7df89adb6db6"
      },
      "execution_count": 43,
      "outputs": [
        {
          "output_type": "stream",
          "name": "stdout",
          "text": [
            "(3050, 32, 32, 3) (3050,)\n"
          ]
        }
      ]
    },
    {
      "cell_type": "code",
      "source": [
        "model=tf.keras.Sequential([\n",
        "    layers.Conv2D(16,3,input_shape=(32,32,3),activation=\"leaky_relu\"),\n",
        "    layers.MaxPool2D(),\n",
        "    layers.Conv2D(32,3,activation=\"leaky_relu\"),\n",
        "    layers.MaxPool2D(),\n",
        "    layers.Conv2D(48,3,activation=\"leaky_relu\"),\n",
        "    layers.MaxPool2D(),\n",
        "    layers.Flatten(),\n",
        "    layers.Dense(16,\"relu\"),\n",
        "    layers.Dense(2,\"sigmoid\")\n",
        "\n",
        "    ])"
      ],
      "metadata": {
        "id": "YExCJK-8c7bQ"
      },
      "execution_count": 60,
      "outputs": []
    },
    {
      "cell_type": "code",
      "source": [
        "model.summary()"
      ],
      "metadata": {
        "colab": {
          "base_uri": "https://localhost:8080/"
        },
        "id": "aantLZtldNQv",
        "outputId": "f17296ee-1ded-46c8-b294-8f7edd6aaf6b"
      },
      "execution_count": 61,
      "outputs": [
        {
          "output_type": "stream",
          "name": "stdout",
          "text": [
            "Model: \"sequential_5\"\n",
            "_________________________________________________________________\n",
            " Layer (type)                Output Shape              Param #   \n",
            "=================================================================\n",
            " conv2d_21 (Conv2D)          (None, 30, 30, 16)        448       \n",
            "                                                                 \n",
            " max_pooling2d_21 (MaxPoolin  (None, 15, 15, 16)       0         \n",
            " g2D)                                                            \n",
            "                                                                 \n",
            " conv2d_22 (Conv2D)          (None, 13, 13, 32)        4640      \n",
            "                                                                 \n",
            " max_pooling2d_22 (MaxPoolin  (None, 6, 6, 32)         0         \n",
            " g2D)                                                            \n",
            "                                                                 \n",
            " conv2d_23 (Conv2D)          (None, 4, 4, 48)          13872     \n",
            "                                                                 \n",
            " max_pooling2d_23 (MaxPoolin  (None, 2, 2, 48)         0         \n",
            " g2D)                                                            \n",
            "                                                                 \n",
            " flatten_7 (Flatten)         (None, 192)               0         \n",
            "                                                                 \n",
            " dense_15 (Dense)            (None, 16)                3088      \n",
            "                                                                 \n",
            " dense_16 (Dense)            (None, 2)                 34        \n",
            "                                                                 \n",
            "=================================================================\n",
            "Total params: 22,082\n",
            "Trainable params: 22,082\n",
            "Non-trainable params: 0\n",
            "_________________________________________________________________\n"
          ]
        }
      ]
    },
    {
      "cell_type": "code",
      "source": [
        "model.compile(loss=tf.keras.losses.categorical_crossentropy,optimizer=tf.keras.optimizers.Adam(),metrics=[\"accuracy\"])"
      ],
      "metadata": {
        "id": "P9tg7Ws0depP"
      },
      "execution_count": 62,
      "outputs": []
    },
    {
      "cell_type": "code",
      "source": [
        "for images,labels in data:\n",
        "    features=tf.divide(feature,255)\n",
        "    labels=tf.one_hot(label,2)\n",
        "    record=model.fit(features,labels,batch_size=10,epochs=50)\n",
        "    break"
      ],
      "metadata": {
        "colab": {
          "base_uri": "https://localhost:8080/"
        },
        "id": "DZeeganjdg84",
        "outputId": "957f1867-5493-4e72-b96a-bc495b8afb11"
      },
      "execution_count": 63,
      "outputs": [
        {
          "output_type": "stream",
          "name": "stdout",
          "text": [
            "Epoch 1/50\n",
            "305/305 [==============================] - 5s 13ms/step - loss: 0.1410 - accuracy: 0.9413\n",
            "Epoch 2/50\n",
            "305/305 [==============================] - 4s 13ms/step - loss: 0.0492 - accuracy: 0.9820\n",
            "Epoch 3/50\n",
            "305/305 [==============================] - 4s 13ms/step - loss: 0.0336 - accuracy: 0.9882\n",
            "Epoch 4/50\n",
            "305/305 [==============================] - 4s 13ms/step - loss: 0.0308 - accuracy: 0.9895\n",
            "Epoch 5/50\n",
            "305/305 [==============================] - 4s 14ms/step - loss: 0.0222 - accuracy: 0.9921\n",
            "Epoch 6/50\n",
            "305/305 [==============================] - 4s 14ms/step - loss: 0.0135 - accuracy: 0.9951\n",
            "Epoch 7/50\n",
            "305/305 [==============================] - 4s 14ms/step - loss: 0.0060 - accuracy: 0.9974\n",
            "Epoch 8/50\n",
            "305/305 [==============================] - 4s 13ms/step - loss: 0.0013 - accuracy: 0.9997\n",
            "Epoch 9/50\n",
            "305/305 [==============================] - 4s 14ms/step - loss: 3.7868e-04 - accuracy: 1.0000\n",
            "Epoch 10/50\n",
            "305/305 [==============================] - 4s 14ms/step - loss: 2.9343e-04 - accuracy: 1.0000\n",
            "Epoch 11/50\n",
            "305/305 [==============================] - 4s 13ms/step - loss: 1.0906e-04 - accuracy: 1.0000\n",
            "Epoch 12/50\n",
            "305/305 [==============================] - 5s 15ms/step - loss: 8.3879e-05 - accuracy: 1.0000\n",
            "Epoch 13/50\n",
            "305/305 [==============================] - 4s 14ms/step - loss: 6.2190e-05 - accuracy: 1.0000\n",
            "Epoch 14/50\n",
            "305/305 [==============================] - 4s 14ms/step - loss: 4.9188e-05 - accuracy: 1.0000\n",
            "Epoch 15/50\n",
            "305/305 [==============================] - 4s 14ms/step - loss: 2.9563e-05 - accuracy: 1.0000\n",
            "Epoch 16/50\n",
            "305/305 [==============================] - 4s 14ms/step - loss: 2.5642e-05 - accuracy: 1.0000\n",
            "Epoch 17/50\n",
            "305/305 [==============================] - 4s 14ms/step - loss: 1.9358e-05 - accuracy: 1.0000\n",
            "Epoch 18/50\n",
            "305/305 [==============================] - 6s 20ms/step - loss: 1.7454e-05 - accuracy: 1.0000\n",
            "Epoch 19/50\n",
            "305/305 [==============================] - 4s 14ms/step - loss: 1.3234e-05 - accuracy: 1.0000\n",
            "Epoch 20/50\n",
            "305/305 [==============================] - 4s 14ms/step - loss: 1.0709e-05 - accuracy: 1.0000\n",
            "Epoch 21/50\n",
            "305/305 [==============================] - 4s 13ms/step - loss: 8.3898e-06 - accuracy: 1.0000\n",
            "Epoch 22/50\n",
            "305/305 [==============================] - 4s 15ms/step - loss: 6.4561e-06 - accuracy: 1.0000\n",
            "Epoch 23/50\n",
            "305/305 [==============================] - 4s 14ms/step - loss: 5.0976e-06 - accuracy: 1.0000\n",
            "Epoch 24/50\n",
            "305/305 [==============================] - 4s 14ms/step - loss: 4.0985e-06 - accuracy: 1.0000\n",
            "Epoch 25/50\n",
            "305/305 [==============================] - 4s 14ms/step - loss: 4.5035e-06 - accuracy: 1.0000\n",
            "Epoch 26/50\n",
            "305/305 [==============================] - 4s 13ms/step - loss: 2.8772e-06 - accuracy: 1.0000\n",
            "Epoch 27/50\n",
            "305/305 [==============================] - 4s 14ms/step - loss: 2.4365e-06 - accuracy: 1.0000\n",
            "Epoch 28/50\n",
            "305/305 [==============================] - 4s 13ms/step - loss: 2.6183e-06 - accuracy: 1.0000\n",
            "Epoch 29/50\n",
            "305/305 [==============================] - 4s 13ms/step - loss: 1.6080e-06 - accuracy: 1.0000\n",
            "Epoch 30/50\n",
            "305/305 [==============================] - 4s 13ms/step - loss: 1.6132e-06 - accuracy: 1.0000\n",
            "Epoch 31/50\n",
            "305/305 [==============================] - 4s 14ms/step - loss: 1.1705e-06 - accuracy: 1.0000\n",
            "Epoch 32/50\n",
            "305/305 [==============================] - 4s 13ms/step - loss: 9.1732e-07 - accuracy: 1.0000\n",
            "Epoch 33/50\n",
            "305/305 [==============================] - 4s 13ms/step - loss: 7.7660e-07 - accuracy: 1.0000\n",
            "Epoch 34/50\n",
            "305/305 [==============================] - 4s 13ms/step - loss: 8.4934e-07 - accuracy: 1.0000\n",
            "Epoch 35/50\n",
            "305/305 [==============================] - 4s 13ms/step - loss: 0.1000 - accuracy: 0.9879\n",
            "Epoch 36/50\n",
            "305/305 [==============================] - 4s 13ms/step - loss: 0.0238 - accuracy: 0.9902\n",
            "Epoch 37/50\n",
            "305/305 [==============================] - 4s 14ms/step - loss: 0.0085 - accuracy: 0.9974\n",
            "Epoch 38/50\n",
            "305/305 [==============================] - 4s 14ms/step - loss: 0.0072 - accuracy: 0.9974\n",
            "Epoch 39/50\n",
            "305/305 [==============================] - 4s 14ms/step - loss: 0.0019 - accuracy: 1.0000\n",
            "Epoch 40/50\n",
            "305/305 [==============================] - 4s 13ms/step - loss: 9.8645e-04 - accuracy: 1.0000\n",
            "Epoch 41/50\n",
            "305/305 [==============================] - 4s 14ms/step - loss: 4.0667e-04 - accuracy: 1.0000\n",
            "Epoch 42/50\n",
            "305/305 [==============================] - 4s 14ms/step - loss: 2.3532e-04 - accuracy: 1.0000\n",
            "Epoch 43/50\n",
            "305/305 [==============================] - 5s 15ms/step - loss: 1.6859e-04 - accuracy: 1.0000\n",
            "Epoch 44/50\n",
            "305/305 [==============================] - 4s 15ms/step - loss: 1.2483e-04 - accuracy: 1.0000\n",
            "Epoch 45/50\n",
            "305/305 [==============================] - 4s 14ms/step - loss: 8.7845e-05 - accuracy: 1.0000\n",
            "Epoch 46/50\n",
            "305/305 [==============================] - 4s 13ms/step - loss: 6.8006e-05 - accuracy: 1.0000\n",
            "Epoch 47/50\n",
            "305/305 [==============================] - 4s 14ms/step - loss: 5.6958e-05 - accuracy: 1.0000\n",
            "Epoch 48/50\n",
            "305/305 [==============================] - 4s 14ms/step - loss: 4.3817e-05 - accuracy: 1.0000\n",
            "Epoch 49/50\n",
            "305/305 [==============================] - 4s 13ms/step - loss: 3.2942e-05 - accuracy: 1.0000\n",
            "Epoch 50/50\n",
            "305/305 [==============================] - 4s 14ms/step - loss: 2.7353e-05 - accuracy: 1.0000\n"
          ]
        }
      ]
    },
    {
      "cell_type": "code",
      "source": [
        "model=model.save(\"fresh_banana.h5\",save_format=\"h5\")"
      ],
      "metadata": {
        "id": "XPBDdS3wfhjd"
      },
      "execution_count": 48,
      "outputs": []
    },
    {
      "cell_type": "code",
      "source": [
        "model=tf.keras.models.load_model(\"fresh_banana.h5\")\n",
        "model.summary()"
      ],
      "metadata": {
        "colab": {
          "base_uri": "https://localhost:8080/"
        },
        "id": "b9CRkbfRmKVv",
        "outputId": "a06ad3aa-b67f-496c-87d6-a9ce99b68495"
      },
      "execution_count": 51,
      "outputs": [
        {
          "output_type": "stream",
          "name": "stdout",
          "text": [
            "Model: \"sequential_2\"\n",
            "_________________________________________________________________\n",
            " Layer (type)                Output Shape              Param #   \n",
            "=================================================================\n",
            " conv2d_6 (Conv2D)           (None, 30, 30, 16)        448       \n",
            "                                                                 \n",
            " max_pooling2d_6 (MaxPooling  (None, 15, 15, 16)       0         \n",
            " 2D)                                                             \n",
            "                                                                 \n",
            " conv2d_7 (Conv2D)           (None, 13, 13, 32)        4640      \n",
            "                                                                 \n",
            " max_pooling2d_7 (MaxPooling  (None, 6, 6, 32)         0         \n",
            " 2D)                                                             \n",
            "                                                                 \n",
            " conv2d_8 (Conv2D)           (None, 4, 4, 48)          13872     \n",
            "                                                                 \n",
            " max_pooling2d_8 (MaxPooling  (None, 2, 2, 48)         0         \n",
            " 2D)                                                             \n",
            "                                                                 \n",
            " flatten_2 (Flatten)         (None, 192)               0         \n",
            "                                                                 \n",
            " dense_4 (Dense)             (None, 16)                3088      \n",
            "                                                                 \n",
            " dense_5 (Dense)             (None, 2)                 34        \n",
            "                                                                 \n",
            "=================================================================\n",
            "Total params: 22,082\n",
            "Trainable params: 22,082\n",
            "Non-trainable params: 0\n",
            "_________________________________________________________________\n"
          ]
        }
      ]
    },
    {
      "cell_type": "code",
      "source": [],
      "metadata": {
        "id": "LSjL95IztWjr"
      },
      "execution_count": 52,
      "outputs": []
    }
  ]
}