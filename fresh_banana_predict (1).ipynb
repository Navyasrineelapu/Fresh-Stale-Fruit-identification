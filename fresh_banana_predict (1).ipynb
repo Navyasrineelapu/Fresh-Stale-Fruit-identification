{
  "nbformat": 4,
  "nbformat_minor": 0,
  "metadata": {
    "colab": {
      "provenance": []
    },
    "kernelspec": {
      "name": "python3",
      "display_name": "Python 3"
    },
    "language_info": {
      "name": "python"
    }
  },
  "cells": [
    {
      "cell_type": "code",
      "execution_count": 9,
      "metadata": {
        "colab": {
          "base_uri": "https://localhost:8080/"
        },
        "id": "-2r4i9wYqwCf",
        "outputId": "a3b522fd-6906-4199-e26f-da2d5ba41651"
      },
      "outputs": [
        {
          "output_type": "stream",
          "name": "stdout",
          "text": [
            "Drive already mounted at /content/drive; to attempt to forcibly remount, call drive.mount(\"/content/drive\", force_remount=True).\n"
          ]
        }
      ],
      "source": [
        "from google.colab import drive\n",
        "drive.mount(\"/content/drive\")"
      ]
    },
    {
      "cell_type": "code",
      "source": [
        "import tensorflow as tf\n",
        "from PIL import Image\n",
        "from tensorflow.keras import layers\n",
        "import numpy as np"
      ],
      "metadata": {
        "id": "kmTw08wRAXNA"
      },
      "execution_count": 49,
      "outputs": []
    },
    {
      "cell_type": "code",
      "source": [
        "filepath=\"/content/drive/MyDrive/data/suretrust project/fresh_banana.h5\""
      ],
      "metadata": {
        "id": "U9Zk7jdgrCr0"
      },
      "execution_count": 50,
      "outputs": []
    },
    {
      "cell_type": "code",
      "source": [
        "model1=tf.keras.models.load_model(\"/content/drive/MyDrive/data/suretrust project/fresh_banana.h5\")"
      ],
      "metadata": {
        "id": "OQol_d0Tq6D-"
      },
      "execution_count": 51,
      "outputs": []
    },
    {
      "cell_type": "code",
      "source": [
        "classes=[\"fresh\",\"not-fresh\"]\n",
        "model1.summary()"
      ],
      "metadata": {
        "colab": {
          "base_uri": "https://localhost:8080/"
        },
        "id": "nS5O4sUnd2I2",
        "outputId": "214447db-6a1e-427b-b533-a08c2783f780"
      },
      "execution_count": 52,
      "outputs": [
        {
          "output_type": "stream",
          "name": "stdout",
          "text": [
            "Model: \"sequential_2\"\n",
            "_________________________________________________________________\n",
            " Layer (type)                Output Shape              Param #   \n",
            "=================================================================\n",
            " conv2d_6 (Conv2D)           (None, 30, 30, 16)        448       \n",
            "                                                                 \n",
            " max_pooling2d_6 (MaxPooling  (None, 15, 15, 16)       0         \n",
            " 2D)                                                             \n",
            "                                                                 \n",
            " conv2d_7 (Conv2D)           (None, 13, 13, 32)        4640      \n",
            "                                                                 \n",
            " max_pooling2d_7 (MaxPooling  (None, 6, 6, 32)         0         \n",
            " 2D)                                                             \n",
            "                                                                 \n",
            " conv2d_8 (Conv2D)           (None, 4, 4, 48)          13872     \n",
            "                                                                 \n",
            " max_pooling2d_8 (MaxPooling  (None, 2, 2, 48)         0         \n",
            " 2D)                                                             \n",
            "                                                                 \n",
            " flatten_2 (Flatten)         (None, 192)               0         \n",
            "                                                                 \n",
            " dense_4 (Dense)             (None, 16)                3088      \n",
            "                                                                 \n",
            " dense_5 (Dense)             (None, 2)                 34        \n",
            "                                                                 \n",
            "=================================================================\n",
            "Total params: 22,082\n",
            "Trainable params: 22,082\n",
            "Non-trainable params: 0\n",
            "_________________________________________________________________\n"
          ]
        }
      ]
    },
    {
      "cell_type": "code",
      "source": [
        "img=Image.open(\"/content/drive/MyDrive/data/suretrust project/rotated_by_15_Screen Shot 2018-06-12 at 9.38.10 PM.jpg\")\n",
        "img\n",
        "img=img.resize((32,32))\n",
        "img\n"
      ],
      "metadata": {
        "colab": {
          "base_uri": "https://localhost:8080/",
          "height": 49
        },
        "id": "r5RA6SEwuYgH",
        "outputId": "6c433395-ceaa-41df-b298-48f0ea9717dd"
      },
      "execution_count": 53,
      "outputs": [
        {
          "output_type": "execute_result",
          "data": {
            "text/plain": [
              "<PIL.Image.Image image mode=RGB size=32x32 at 0x7FE5B3CA8DC0>"
            ],
            "image/png": "[encoded data removed]"
          },
          "metadata": {},
          "execution_count": 53
        }
      ]
    },
    {
      "cell_type": "code",
      "source": [
        "def Pred(final):\n",
        "  image = Image.open(final)\n",
        "  image = image.resize((32,32))\n",
        "  test = tf.reshape(tf.constant(np.array(image)/255), (-1,32,32,3))\n",
        "  preds = model.predict(test, verbose=False)[0]*100\n",
        "  preds = tf.math.round(preds)\n",
        "  confidence = tf.reduce_max(preds)\n",
        "  index = int(tf.where(preds == confidence)[0][0])\n",
        "  pred = classes[index]\n",
        "  return f\"status of fruit is {pred.title()} and it's confidence is {int(confidence)}%\""
      ],
      "metadata": {
        "id": "p148Nw-7A3JD"
      },
      "execution_count": 54,
      "outputs": []
    },
    {
      "cell_type": "code",
      "source": [
        "img=Image.open(\"/content/drive/MyDrive/data/suretrust project/rotated_by_15_Screen Shot 2018-06-12 at 9.38.10 PM.jpg\")\n",
        "img=img.resize((32,32))\n",
        "img\n",
        "\n"
      ],
      "metadata": {
        "colab": {
          "base_uri": "https://localhost:8080/",
          "height": 49
        },
        "id": "SOjIdU_KIrfR",
        "outputId": "58432cba-4af8-4b65-b1d7-fa691a9f18c7"
      },
      "execution_count": 55,
      "outputs": [
        {
          "output_type": "execute_result",
          "data": {
            "text/plain": [
              "<PIL.Image.Image image mode=RGB size=32x32 at 0x7FE5B097C310>"
            ],
            "image/png": "[encoded data removed]"
          },
          "metadata": {},
          "execution_count": 55
        }
      ]
    },
    {
      "cell_type": "code",
      "source": [
        "Pred(\"/content/drive/MyDrive/data/suretrust project/rotated_by_15_Screen Shot 2018-06-12 at 9.38.10 PM.jpg\")"
      ],
      "metadata": {
        "colab": {
          "base_uri": "https://localhost:8080/",
          "height": 35
        },
        "id": "96YQQil8D0y-",
        "outputId": "538977f4-bb7e-4249-a705-d32d531d6e0e"
      },
      "execution_count": 56,
      "outputs": [
        {
          "output_type": "execute_result",
          "data": {
            "text/plain": [
              "\"status of fruit is Fresh and it's confidence is 100%\""
            ],
            "application/vnd.google.colaboratory.intrinsic+json": {
              "type": "string"
            }
          },
          "metadata": {},
          "execution_count": 56
        }
      ]
    }
  ]
}